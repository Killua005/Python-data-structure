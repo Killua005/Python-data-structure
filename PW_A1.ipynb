{
  "nbformat": 4,
  "nbformat_minor": 0,
  "metadata": {
    "colab": {
      "provenance": []
    },
    "kernelspec": {
      "name": "python3",
      "display_name": "Python 3"
    },
    "language_info": {
      "name": "python"
    }
  },
  "cells": [
    {
      "cell_type": "markdown",
      "source": [
        "1. Reverse a String"
      ],
      "metadata": {
        "id": "X_Id9yN2rQku"
      }
    },
    {
      "cell_type": "code",
      "source": [
        "def reverse_string(s):\n",
        "    return s[::-1]\n",
        "\n",
        "# Example usage\n",
        "s = \"hello\"\n",
        "print(reverse_string(s))"
      ],
      "metadata": {
        "colab": {
          "base_uri": "https://localhost:8080/"
        },
        "id": "7xEIShyQrTWK",
        "outputId": "1dcaa445-3f2b-4fb5-8c40-a47c59cb48d0"
      },
      "execution_count": null,
      "outputs": [
        {
          "output_type": "stream",
          "name": "stdout",
          "text": [
            "olleh\n"
          ]
        }
      ]
    },
    {
      "cell_type": "markdown",
      "source": [
        "2. Count the Number of Vowels in a String"
      ],
      "metadata": {
        "id": "K2001HYXrkmD"
      }
    },
    {
      "cell_type": "code",
      "source": [
        "def count_vowels(s):\n",
        "    vowels = 'aeiouAEIOU'\n",
        "    return sum(1 for char in s if char in vowels)\n",
        "\n",
        "# Example usage\n",
        "s = \"hello world\"\n",
        "print(count_vowels(s))"
      ],
      "metadata": {
        "colab": {
          "base_uri": "https://localhost:8080/"
        },
        "id": "Br6ZzG3EroWA",
        "outputId": "daca29b9-30ef-4a18-9f47-277dec7f31b4"
      },
      "execution_count": null,
      "outputs": [
        {
          "output_type": "stream",
          "name": "stdout",
          "text": [
            "3\n"
          ]
        }
      ]
    },
    {
      "cell_type": "markdown",
      "source": [
        "3. Check if a String is a Palindrome"
      ],
      "metadata": {
        "id": "ysqErwPwrtbB"
      }
    },
    {
      "cell_type": "code",
      "source": [
        "def is_palindrome(s):\n",
        "    return s == s[::-1]\n",
        "\n",
        "# Example usage\n",
        "s = \"radar\"\n",
        "print(is_palindrome(s))"
      ],
      "metadata": {
        "colab": {
          "base_uri": "https://localhost:8080/"
        },
        "id": "KFe2vB6krwcV",
        "outputId": "b7cf6c44-9a2a-462c-e849-805363dde5fc"
      },
      "execution_count": null,
      "outputs": [
        {
          "output_type": "stream",
          "name": "stdout",
          "text": [
            "True\n"
          ]
        }
      ]
    },
    {
      "cell_type": "markdown",
      "source": [
        "4. Check if Two Strings are Anagrams"
      ],
      "metadata": {
        "id": "ndIlJjQWr0rt"
      }
    },
    {
      "cell_type": "code",
      "source": [
        "def are_anagrams(s1, s2):\n",
        "    return sorted(s1) == sorted(s2)\n",
        "\n",
        "# Example usage\n",
        "s1 = \"listen\"\n",
        "s2 = \"silent\"\n",
        "print(are_anagrams(s1, s2))"
      ],
      "metadata": {
        "colab": {
          "base_uri": "https://localhost:8080/"
        },
        "id": "2bf4-brqr-pK",
        "outputId": "f2031b60-3334-4d30-e617-3beef9f8a96f"
      },
      "execution_count": null,
      "outputs": [
        {
          "output_type": "stream",
          "name": "stdout",
          "text": [
            "True\n"
          ]
        }
      ]
    },
    {
      "cell_type": "markdown",
      "source": [
        "5. Find All Occurrences of a Substring"
      ],
      "metadata": {
        "id": "9ty733UqsD6M"
      }
    },
    {
      "cell_type": "code",
      "source": [
        "def find_substring_occurrences(s, sub):\n",
        "    start = 0\n",
        "    while True:\n",
        "        start = s.find(sub, start)\n",
        "        if start == -1: return\n",
        "        yield start\n",
        "        start += 1\n",
        "\n",
        "# Example usage\n",
        "s = \"hello world, hello universe\"\n",
        "sub = \"hello\"\n",
        "print(list(find_substring_occurrences(s, sub)))"
      ],
      "metadata": {
        "colab": {
          "base_uri": "https://localhost:8080/"
        },
        "id": "FuyLJR2bsGhW",
        "outputId": "ec0691b7-8377-448e-ef79-b8aa38ed59bb"
      },
      "execution_count": null,
      "outputs": [
        {
          "output_type": "stream",
          "name": "stdout",
          "text": [
            "[0, 13]\n"
          ]
        }
      ]
    },
    {
      "cell_type": "markdown",
      "source": [
        "6. Basic String Compression"
      ],
      "metadata": {
        "id": "7LsSmFSEsLhv"
      }
    },
    {
      "cell_type": "code",
      "source": [
        "def compress_string(string):\n",
        "    compressed_string = \"\"\n",
        "    count_consecutive = 0\n",
        "\n",
        "    for i in range(len(string)):\n",
        "        count_consecutive += 1\n",
        "        if (i + 1 >= len(string)) or (string[i] != string[i + 1]):\n",
        "            compressed_string += string[i] + str(count_consecutive)\n",
        "            count_consecutive = 0\n",
        "\n",
        "    if len(compressed_string) < len(string):\n",
        "        return compressed_string\n",
        "    else:\n",
        "        return string\n",
        "\n",
        "# Test the function\n",
        "input_string = input(\"Enter a string to compress: \")\n",
        "compressed_result = compress_string(input_string)\n",
        "print(\"Compressed string:\", compressed_result)\n"
      ],
      "metadata": {
        "colab": {
          "base_uri": "https://localhost:8080/"
        },
        "id": "oT28bCxKtPSK",
        "outputId": "cd2f3020-e4ee-40f1-cf7c-7149d88b6db7"
      },
      "execution_count": null,
      "outputs": [
        {
          "output_type": "stream",
          "name": "stdout",
          "text": [
            "Enter a string to compress: aaabbccccdd\n",
            "Compressed string: a3b2c4d2\n"
          ]
        }
      ]
    },
    {
      "cell_type": "markdown",
      "source": [
        "7. Determine if a String has All Unique Characters"
      ],
      "metadata": {
        "id": "2IMbjKOntqUN"
      }
    },
    {
      "cell_type": "code",
      "source": [
        "def has_all_unique_chars(s):\n",
        "    return len(s) == len(set(s))\n",
        "\n",
        "# Example usage\n",
        "s = \"unique\"\n",
        "print(has_all_unique_chars(s))"
      ],
      "metadata": {
        "colab": {
          "base_uri": "https://localhost:8080/"
        },
        "id": "T7JCNkPmttGm",
        "outputId": "b83f49ec-0cca-401b-c904-e7582c386174"
      },
      "execution_count": null,
      "outputs": [
        {
          "output_type": "stream",
          "name": "stdout",
          "text": [
            "False\n"
          ]
        }
      ]
    },
    {
      "cell_type": "markdown",
      "source": [
        "8. Convert a String to Uppercase or Lowercase"
      ],
      "metadata": {
        "id": "Bhws-2q3txJy"
      }
    },
    {
      "cell_type": "code",
      "source": [
        "def convert_case(s, to_upper=True):\n",
        "    return s.upper() if to_upper else s.lower()\n",
        "\n",
        "# Example usage for uppercase\n",
        "s = \"hello\"\n",
        "print(convert_case(s, to_upper=True))\n",
        "\n",
        "# Example usage for lowercase\n",
        "print(convert_case(s, to_upper=False))"
      ],
      "metadata": {
        "colab": {
          "base_uri": "https://localhost:8080/"
        },
        "id": "9bGQ49GrtzJM",
        "outputId": "31ca330e-5e29-40a0-ff88-84b978354c5f"
      },
      "execution_count": null,
      "outputs": [
        {
          "output_type": "stream",
          "name": "stdout",
          "text": [
            "HELLO\n",
            "hello\n"
          ]
        }
      ]
    },
    {
      "cell_type": "markdown",
      "source": [
        "9. Count the Number of Words in a String"
      ],
      "metadata": {
        "id": "29W2cJmRt8z0"
      }
    },
    {
      "cell_type": "code",
      "source": [
        "def count_words(s):\n",
        "    return len(s.split())\n",
        "\n",
        "# Example usage\n",
        "s = \"hello world\"\n",
        "print(count_words(s))"
      ],
      "metadata": {
        "colab": {
          "base_uri": "https://localhost:8080/"
        },
        "id": "FuHmWOiLt_8y",
        "outputId": "679c1abc-5ff7-4080-c2a9-fb0f4128596a"
      },
      "execution_count": null,
      "outputs": [
        {
          "output_type": "stream",
          "name": "stdout",
          "text": [
            "2\n"
          ]
        }
      ]
    },
    {
      "cell_type": "markdown",
      "source": [
        "10. Concatenate Two Strings Without Using the + Operator"
      ],
      "metadata": {
        "id": "_NW3xZ1huEtO"
      }
    },
    {
      "cell_type": "code",
      "source": [
        "def concatenate_strings(s1, s2):\n",
        "    return ''.join([s1, s2])\n",
        "\n",
        "# Example usage\n",
        "s1 = \"hello\"\n",
        "s2 = \"world\"\n",
        "print(concatenate_strings(s1, s2))"
      ],
      "metadata": {
        "colab": {
          "base_uri": "https://localhost:8080/"
        },
        "id": "G7ZzqX5tuHMS",
        "outputId": "0c02f920-5d40-4344-da70-b865764603d7"
      },
      "execution_count": null,
      "outputs": [
        {
          "output_type": "stream",
          "name": "stdout",
          "text": [
            "helloworld\n"
          ]
        }
      ]
    },
    {
      "cell_type": "markdown",
      "source": [
        "11. Remove All Occurrences of a Specific Element from a List"
      ],
      "metadata": {
        "id": "KJ90HufEuKnu"
      }
    },
    {
      "cell_type": "code",
      "source": [
        "def remove_element(lst, element):\n",
        "    return [x for x in lst if x != element]\n",
        "\n",
        "# Example usage\n",
        "lst = [1, 2, 3, 4, 2, 2, 5]\n",
        "element = 2\n",
        "print(remove_element(lst, element))"
      ],
      "metadata": {
        "colab": {
          "base_uri": "https://localhost:8080/"
        },
        "id": "t2F62h2puwOr",
        "outputId": "bd7185df-abed-468b-da98-82a0fc446af3"
      },
      "execution_count": null,
      "outputs": [
        {
          "output_type": "stream",
          "name": "stdout",
          "text": [
            "[1, 3, 4, 5]\n"
          ]
        }
      ]
    },
    {
      "cell_type": "markdown",
      "source": [
        "12. Find the Second Largest Number in a List"
      ],
      "metadata": {
        "id": "DZWA8jQqu0xN"
      }
    },
    {
      "cell_type": "code",
      "source": [
        "def second_largest(numbers):\n",
        "    unique_numbers = list(set(numbers))\n",
        "    unique_numbers.sort()\n",
        "    return unique_numbers[-2]\n",
        "\n",
        "# Example usage\n",
        "numbers = [1, 3, 4, 5, 0, 3, 4]\n",
        "print(second_largest(numbers))"
      ],
      "metadata": {
        "colab": {
          "base_uri": "https://localhost:8080/"
        },
        "id": "SeaTpqrtu3nr",
        "outputId": "ab13bb97-8a34-4a94-c53c-47662d4931bb"
      },
      "execution_count": null,
      "outputs": [
        {
          "output_type": "stream",
          "name": "stdout",
          "text": [
            "4\n"
          ]
        }
      ]
    },
    {
      "cell_type": "markdown",
      "source": [
        "13. Count Occurrences of Each Element in a List"
      ],
      "metadata": {
        "id": "JvMCz-VAu70l"
      }
    },
    {
      "cell_type": "code",
      "source": [
        "def count_occurrences(lst):\n",
        "    return {x: lst.count(x) for x in set(lst)}\n",
        "\n",
        "# Example usage\n",
        "lst = ['apple', 'banana', 'apple', 'orange']\n",
        "print(count_occurrences(lst))"
      ],
      "metadata": {
        "colab": {
          "base_uri": "https://localhost:8080/"
        },
        "id": "uTJk6zpUu98Q",
        "outputId": "b559b4a5-419f-422d-9109-2edf7d57b14e"
      },
      "execution_count": null,
      "outputs": [
        {
          "output_type": "stream",
          "name": "stdout",
          "text": [
            "{'apple': 2, 'banana': 1, 'orange': 1}\n"
          ]
        }
      ]
    },
    {
      "cell_type": "markdown",
      "source": [
        "14. Reverse a List In-Place"
      ],
      "metadata": {
        "id": "Z_WbcXBWvEae"
      }
    },
    {
      "cell_type": "code",
      "source": [
        "def reverse_list_in_place(lst):\n",
        "    left, right = 0, len(lst) - 1\n",
        "    while left < right:\n",
        "        lst[left], lst[right] = lst[right], lst[left]\n",
        "        left, right = left + 1, right - 1\n",
        "    return lst\n",
        "\n",
        "# Example usage\n",
        "lst = [1, 2, 3, 4, 5]\n",
        "print(reverse_list_in_place(lst))"
      ],
      "metadata": {
        "colab": {
          "base_uri": "https://localhost:8080/"
        },
        "id": "MV5ggpNNvIhr",
        "outputId": "a5abe4cc-32b2-4f88-dc1b-207fd966cdd5"
      },
      "execution_count": null,
      "outputs": [
        {
          "output_type": "stream",
          "name": "stdout",
          "text": [
            "[5, 4, 3, 2, 1]\n"
          ]
        }
      ]
    },
    {
      "cell_type": "markdown",
      "source": [
        "15. Remove Duplicates from a List While Preserving Order"
      ],
      "metadata": {
        "id": "3gGwzJwKvMBH"
      }
    },
    {
      "cell_type": "code",
      "source": [
        "def remove_duplicates(lst):\n",
        "    seen = set()\n",
        "    return [x for x in lst if not (x in seen or seen.add(x))]\n",
        "\n",
        "# Example usage\n",
        "lst = [1, 2, 2, 3, 4, 3, 5]\n",
        "print(remove_duplicates(lst))"
      ],
      "metadata": {
        "colab": {
          "base_uri": "https://localhost:8080/"
        },
        "id": "xOuBh_V8vOiB",
        "outputId": "dadf6da7-9b0b-4ec0-f326-d0df65d45a3c"
      },
      "execution_count": null,
      "outputs": [
        {
          "output_type": "stream",
          "name": "stdout",
          "text": [
            "[1, 2, 3, 4, 5]\n"
          ]
        }
      ]
    },
    {
      "cell_type": "markdown",
      "source": [
        "16. Check if a List is Sorted"
      ],
      "metadata": {
        "id": "FE-wHzdNvR0R"
      }
    },
    {
      "cell_type": "code",
      "source": [
        "def is_sorted(lst):\n",
        "    return all(lst[i] <= lst[i+1] for i in range(len(lst) - 1))\n",
        "\n",
        "# Example usage\n",
        "lst = [1, 2, 2, 3, 4, 5]\n",
        "print(is_sorted(lst))"
      ],
      "metadata": {
        "colab": {
          "base_uri": "https://localhost:8080/"
        },
        "id": "YASTkA25vTzo",
        "outputId": "412cd5f9-c4aa-4961-fcd3-edcccc3bd80f"
      },
      "execution_count": null,
      "outputs": [
        {
          "output_type": "stream",
          "name": "stdout",
          "text": [
            "True\n"
          ]
        }
      ]
    },
    {
      "cell_type": "markdown",
      "source": [
        "17. Merge Two Sorted Lists"
      ],
      "metadata": {
        "id": "QNHc6CdZvXtk"
      }
    },
    {
      "cell_type": "code",
      "source": [
        "def merge_sorted_lists(lst1, lst2):\n",
        "    return sorted(lst1 + lst2)\n",
        "\n",
        "# Example usage\n",
        "lst1 = [1, 3, 5]\n",
        "lst2 = [2, 4, 6]\n",
        "print(merge_sorted_lists(lst1, lst2))"
      ],
      "metadata": {
        "colab": {
          "base_uri": "https://localhost:8080/"
        },
        "id": "YTMzbGrsvj1Z",
        "outputId": "bd0c102a-86f1-4208-c930-902a026cad6d"
      },
      "execution_count": null,
      "outputs": [
        {
          "output_type": "stream",
          "name": "stdout",
          "text": [
            "[1, 2, 3, 4, 5, 6]\n"
          ]
        }
      ]
    },
    {
      "cell_type": "markdown",
      "source": [
        "18. Find the Intersection of Two Lists"
      ],
      "metadata": {
        "id": "FfhLYnvWvm_G"
      }
    },
    {
      "cell_type": "code",
      "source": [
        "def intersection(lst1, lst2):\n",
        "    return list(set(lst1) & set(lst2))\n",
        "\n",
        "# Example usage\n",
        "lst1 = [1, 2, 3, 4]\n",
        "lst2 = [3, 4, 5, 6]\n",
        "print(intersection(lst1, lst2))"
      ],
      "metadata": {
        "colab": {
          "base_uri": "https://localhost:8080/"
        },
        "id": "ytaJY8rYvqAe",
        "outputId": "4d194932-7a6d-4a05-9b56-659bdee36063"
      },
      "execution_count": null,
      "outputs": [
        {
          "output_type": "stream",
          "name": "stdout",
          "text": [
            "[3, 4]\n"
          ]
        }
      ]
    },
    {
      "cell_type": "markdown",
      "source": [
        "19. Find the Union of Two Lists Without Duplicates"
      ],
      "metadata": {
        "id": "2bWMOZfRvu3F"
      }
    },
    {
      "cell_type": "code",
      "source": [
        "def union(lst1, lst2):\n",
        "    return list(set(lst1) | set(lst2))\n",
        "\n",
        "# Example usage\n",
        "lst1 = [1, 2, 3, 4]\n",
        "lst2 = [3, 4, 5, 6]\n",
        "print(union(lst1, lst2))"
      ],
      "metadata": {
        "colab": {
          "base_uri": "https://localhost:8080/"
        },
        "id": "YSkAJ1uVvwso",
        "outputId": "178f7f9a-9cdd-4bf7-8620-7309f1c12c7a"
      },
      "execution_count": null,
      "outputs": [
        {
          "output_type": "stream",
          "name": "stdout",
          "text": [
            "[1, 2, 3, 4, 5, 6]\n"
          ]
        }
      ]
    },
    {
      "cell_type": "markdown",
      "source": [
        "20. Shuffle a List Randomly Without Using Built-in Shuffle Functions"
      ],
      "metadata": {
        "id": "WpIsSBqIv0ab"
      }
    },
    {
      "cell_type": "code",
      "source": [
        "import random\n",
        "\n",
        "def shuffle_list(lst):\n",
        "    n = len(lst)\n",
        "    for i in range(n-1, 0, -1):\n",
        "        j = random.randint(0, i)\n",
        "        lst[i], lst[j] = lst[j], lst[i]\n",
        "    return lst\n",
        "\n",
        "# Example usage\n",
        "lst = [1, 2, 3, 4, 5]\n",
        "print(shuffle_list(lst))"
      ],
      "metadata": {
        "colab": {
          "base_uri": "https://localhost:8080/"
        },
        "id": "lAt_n0TYv3Qm",
        "outputId": "190783f6-0352-4dd7-d56d-cfa0feea7f5c"
      },
      "execution_count": null,
      "outputs": [
        {
          "output_type": "stream",
          "name": "stdout",
          "text": [
            "[3, 2, 5, 4, 1]\n"
          ]
        }
      ]
    },
    {
      "cell_type": "markdown",
      "source": [
        "21. Write a code that takes two tuples as input and returns a new tuple containing elements that are common to both input tuples"
      ],
      "metadata": {
        "id": "J5hCWxFIw4uL"
      }
    },
    {
      "cell_type": "code",
      "source": [
        "def common_elements(tuple1, tuple2):\n",
        "    return tuple(set(tuple1) & set(tuple2))\n",
        "\n",
        "# Example usage\n",
        "tuple1 = (1, 2, 3, 4)\n",
        "tuple2 = (3, 4, 5, 6)\n",
        "print(common_elements(tuple1, tuple2))"
      ],
      "metadata": {
        "colab": {
          "base_uri": "https://localhost:8080/"
        },
        "id": "5JR7It95w7Hc",
        "outputId": "a6cc246a-2fbb-4fc5-e470-01e904068660"
      },
      "execution_count": null,
      "outputs": [
        {
          "output_type": "stream",
          "name": "stdout",
          "text": [
            "(3, 4)\n"
          ]
        }
      ]
    },
    {
      "cell_type": "markdown",
      "source": [
        "22. Create a code that prompts the user to enter two sets of integers separated by commas. Then, print the intersection of these two sets"
      ],
      "metadata": {
        "id": "sqUvKNlMxQeV"
      }
    },
    {
      "cell_type": "code",
      "source": [
        "def intersection_of_sets():\n",
        "    set1 = set(map(int, input(\"Enter first set of integers separated by commas: \").split(',')))\n",
        "    set2 = set(map(int, input(\"Enter second set of integers separated by commas: \").split(',')))\n",
        "    print(\"Intersection of sets:\", set1 & set2)\n",
        "\n",
        "# Example usage\n",
        "intersection_of_sets()"
      ],
      "metadata": {
        "colab": {
          "base_uri": "https://localhost:8080/"
        },
        "id": "I6pAFFiCxS1v",
        "outputId": "ccd688e4-1488-4811-f043-8ffe3d8c2c51"
      },
      "execution_count": null,
      "outputs": [
        {
          "output_type": "stream",
          "name": "stdout",
          "text": [
            "Enter first set of integers separated by commas: 1, 2, 3, 4, 5\n",
            "Enter second set of integers separated by commas: 4, 5, 6, 7, 8\n",
            "Intersection of sets: {4, 5}\n"
          ]
        }
      ]
    },
    {
      "cell_type": "markdown",
      "source": [
        "23. Write a code to concatenate two tuples. The function should take two tuples as input and return a new tuple containing elements from both input tuples."
      ],
      "metadata": {
        "id": "mc9LHrjDyBuk"
      }
    },
    {
      "cell_type": "code",
      "source": [
        "def concatenate_tuples(tuple1, tuple2):\n",
        "    return tuple1 + tuple2\n",
        "\n",
        "# Example usage\n",
        "tuple1 = (1, 2, 3)\n",
        "tuple2 = (4, 5, 6)\n",
        "print(concatenate_tuples(tuple1, tuple2))"
      ],
      "metadata": {
        "colab": {
          "base_uri": "https://localhost:8080/"
        },
        "id": "F0HfCChsyD_B",
        "outputId": "24fd65e4-98a8-479a-927e-8063ddb0b7ef"
      },
      "execution_count": null,
      "outputs": [
        {
          "output_type": "stream",
          "name": "stdout",
          "text": [
            "(1, 2, 3, 4, 5, 6)\n"
          ]
        }
      ]
    },
    {
      "cell_type": "markdown",
      "source": [
        "24. Develop a code that prompts the user to input two sets of strings. Then, print the elements that are present in the first set but not in the second set"
      ],
      "metadata": {
        "id": "3kvnTZdpyURL"
      }
    },
    {
      "cell_type": "code",
      "source": [
        "def difference_of_sets():\n",
        "    set1 = set(input(\"Enter first set of strings separated by commas: \").split(','))\n",
        "    set2 = set(input(\"Enter second set of strings separated by commas: \").split(','))\n",
        "    print(\"Elements in first set but not in second:\", set1 - set2)\n",
        "\n",
        "# Example usage\n",
        "difference_of_sets()"
      ],
      "metadata": {
        "colab": {
          "base_uri": "https://localhost:8080/"
        },
        "id": "Lg5uv8Z_ya_1",
        "outputId": "5fe863a9-ce4a-4ede-9dcf-1217ee5dd098"
      },
      "execution_count": null,
      "outputs": [
        {
          "output_type": "stream",
          "name": "stdout",
          "text": [
            "Enter first set of strings separated by commas: apple, banana, orange, mango\n",
            "Enter second set of strings separated by commas: banana, mango, kiwi\n",
            "Elements in first set but not in second: {'apple', ' banana', ' orange'}\n"
          ]
        }
      ]
    },
    {
      "cell_type": "markdown",
      "source": [
        "25. Create a code that takes a tuple and two integers as input. The function should return a new tuple containing elements from the original tuple within the specified range of indices"
      ],
      "metadata": {
        "id": "vfLmMn_OyoBY"
      }
    },
    {
      "cell_type": "code",
      "source": [
        "def slice_tuple(input_tuple, start, end):\n",
        "    return input_tuple[start:end+1]\n",
        "\n",
        "# Example usage\n",
        "input_tuple = (0, 1, 2, 3, 4, 5)\n",
        "start, end = 1, 3\n",
        "print(slice_tuple(input_tuple, start, end))"
      ],
      "metadata": {
        "colab": {
          "base_uri": "https://localhost:8080/"
        },
        "id": "NtXLllb7yqd9",
        "outputId": "4453dec8-3b24-41c5-f85b-c0c62ed24c5d"
      },
      "execution_count": null,
      "outputs": [
        {
          "output_type": "stream",
          "name": "stdout",
          "text": [
            "(1, 2, 3)\n"
          ]
        }
      ]
    },
    {
      "cell_type": "markdown",
      "source": [
        "26. Write a code that prompts the user to input two sets of characters. Then, print the union of these two sets"
      ],
      "metadata": {
        "id": "q-pqzFc9y1b8"
      }
    },
    {
      "cell_type": "code",
      "source": [
        "def union_of_sets():\n",
        "    set1 = set(input(\"Enter first set of characters separated by commas: \").split(','))\n",
        "    set2 = set(input(\"Enter second set of characters separated by commas: \").split(','))\n",
        "    print(\"Union of sets:\", set1.union(set2))\n",
        "\n",
        "# Example usage\n",
        "union_of_sets()"
      ],
      "metadata": {
        "colab": {
          "base_uri": "https://localhost:8080/"
        },
        "id": "vA8x-zNqy3zo",
        "outputId": "dc168519-ecb7-4dcf-cc52-07d4b86ded87"
      },
      "execution_count": null,
      "outputs": [
        {
          "output_type": "stream",
          "name": "stdout",
          "text": [
            "Enter first set of characters separated by commas: a, b, c, d\n",
            "Enter second set of characters separated by commas: c, d, e, f\n",
            "Union of sets: {' f', ' d', ' b', ' e', 'c', 'a', ' c'}\n"
          ]
        }
      ]
    },
    {
      "cell_type": "markdown",
      "source": [
        "27. Develop a code that takes a tuple of integers as input. The function should return the maximum and minimum values from the tuple using tuple unpacking"
      ],
      "metadata": {
        "id": "uY9qJZOEzXVu"
      }
    },
    {
      "cell_type": "code",
      "source": [
        "def max_min_tuple(input_tuple):\n",
        "    return max(input_tuple), min(input_tuple)\n",
        "\n",
        "# Example usage\n",
        "input_tuple = (10, 20, 30, 40, 50)\n",
        "print(max_min_tuple(input_tuple))"
      ],
      "metadata": {
        "colab": {
          "base_uri": "https://localhost:8080/"
        },
        "id": "woXpRlCrzksg",
        "outputId": "338b92ad-8776-4779-a461-1796897e49ac"
      },
      "execution_count": null,
      "outputs": [
        {
          "output_type": "stream",
          "name": "stdout",
          "text": [
            "(50, 10)\n"
          ]
        }
      ]
    },
    {
      "cell_type": "markdown",
      "source": [
        "28. Create a code that defines two sets of integers. Then, print the union, intersection, and difference of these two sets"
      ],
      "metadata": {
        "id": "RHybJ6c2zqlO"
      }
    },
    {
      "cell_type": "code",
      "source": [
        "def set_operations(set1, set2):\n",
        "    print(\"Union:\", set1 | set2)\n",
        "    print(\"Intersection:\", set1 & set2)\n",
        "    print(\"Difference:\", set1 - set2)\n",
        "\n",
        "# Example usage\n",
        "set1 = {1, 2, 3, 4}\n",
        "set2 = {3, 4, 5, 6}\n",
        "set_operations(set1, set2)"
      ],
      "metadata": {
        "colab": {
          "base_uri": "https://localhost:8080/"
        },
        "id": "ZKiMXc2jz1Kc",
        "outputId": "503605e9-1536-447b-fd66-5128397f6a57"
      },
      "execution_count": null,
      "outputs": [
        {
          "output_type": "stream",
          "name": "stdout",
          "text": [
            "Union: {1, 2, 3, 4, 5, 6}\n",
            "Intersection: {3, 4}\n",
            "Difference: {1, 2}\n"
          ]
        }
      ]
    },
    {
      "cell_type": "markdown",
      "source": [
        "29. Write a code that takes a tuple and an element as input. The function should return the count of occurrences of the given element in the tuple"
      ],
      "metadata": {
        "id": "sQvaTLCSz4yb"
      }
    },
    {
      "cell_type": "code",
      "source": [
        "def count_element_in_tuple(input_tuple, element):\n",
        "    return input_tuple.count(element)\n",
        "\n",
        "# Example usage\n",
        "input_tuple = (1, 2, 3, 4, 3, 2, 1)\n",
        "element = 3\n",
        "print(count_element_in_tuple(input_tuple, element))"
      ],
      "metadata": {
        "colab": {
          "base_uri": "https://localhost:8080/"
        },
        "id": "QChsGm89z7Im",
        "outputId": "02fe3c71-a050-4a79-f511-dcea0837826c"
      },
      "execution_count": null,
      "outputs": [
        {
          "output_type": "stream",
          "name": "stdout",
          "text": [
            "2\n"
          ]
        }
      ]
    },
    {
      "cell_type": "markdown",
      "source": [
        "30. Develop a code that prompts the user to input two sets of strings. Then, print the symmetric difference of these two sets"
      ],
      "metadata": {
        "id": "AKXCpuv_0BC4"
      }
    },
    {
      "cell_type": "code",
      "source": [
        "def symmetric_difference_of_sets():\n",
        "    set1 = set(input(\"Enter first set of strings separated by commas: \").split(','))\n",
        "    set2 = set(input(\"Enter second set of strings separated by commas: \").split(','))\n",
        "    print(\"Symmetric difference of sets:\", set1 ^ set2)\n",
        "\n",
        "# Example usage\n",
        "symmetric_difference_of_sets()"
      ],
      "metadata": {
        "colab": {
          "base_uri": "https://localhost:8080/"
        },
        "id": "Uf8bl_mn0DW1",
        "outputId": "4092cbb5-31ce-4779-9e2f-922f4e444775"
      },
      "execution_count": null,
      "outputs": [
        {
          "output_type": "stream",
          "name": "stdout",
          "text": [
            "Enter first set of strings separated by commas: apple, banana, orange, mango\n",
            "Enter second set of strings separated by commas: banana, mango, kiwi\n",
            "Symmetric difference of sets: {'banana', ' kiwi', 'apple', ' banana', ' orange'}\n"
          ]
        }
      ]
    },
    {
      "cell_type": "markdown",
      "source": [
        "31. Write a code that takes a list of words as input and returns a dictionary where the keys are unique words and the values are the frequencies of those words in the input list"
      ],
      "metadata": {
        "id": "uOC9IuKP0Uwm"
      }
    },
    {
      "cell_type": "code",
      "source": [
        "def word_frequencies(word_list):\n",
        "    return {word: word_list.count(word) for word in set(word_list)}\n",
        "\n",
        "# Example usage\n",
        "word_list = [\"apple\", \"banana\", \"apple\", \"orange\", \"banana\", \"apple\"]\n",
        "print(word_frequencies(word_list))"
      ],
      "metadata": {
        "colab": {
          "base_uri": "https://localhost:8080/"
        },
        "id": "IUkgvxbZ0YUP",
        "outputId": "1f6a4c51-f377-49a9-d1d2-4af6c34e093a"
      },
      "execution_count": null,
      "outputs": [
        {
          "output_type": "stream",
          "name": "stdout",
          "text": [
            "{'apple': 3, 'banana': 2, 'orange': 1}\n"
          ]
        }
      ]
    },
    {
      "cell_type": "markdown",
      "source": [
        "32. Write a code that takes two dictionaries as input and merges them into a single dictionary. If there are common keys, the values should be added together"
      ],
      "metadata": {
        "id": "SK-s4kH81N3C"
      }
    },
    {
      "cell_type": "code",
      "source": [
        "def merge_dictionaries(dict1, dict2):\n",
        "    merged_dict = dict1.copy()\n",
        "    for key, value in dict2.items():\n",
        "        if key in merged_dict:\n",
        "            merged_dict[key] += value\n",
        "        else:\n",
        "            merged_dict[key] = value\n",
        "    return merged_dict\n",
        "\n",
        "# Example usage\n",
        "dict1 = {'a': 1, 'b': 2}\n",
        "dict2 = {'b': 3, 'c': 4}\n",
        "print(merge_dictionaries(dict1, dict2))"
      ],
      "metadata": {
        "colab": {
          "base_uri": "https://localhost:8080/"
        },
        "id": "JxqqyxbW1Sve",
        "outputId": "61a1bd6d-8d80-4c1a-ef60-e7e3fa99a304"
      },
      "execution_count": null,
      "outputs": [
        {
          "output_type": "stream",
          "name": "stdout",
          "text": [
            "{'a': 1, 'b': 5, 'c': 4}\n"
          ]
        }
      ]
    },
    {
      "cell_type": "markdown",
      "source": [
        "33. Write a code to access a value in a nested dictionary. The function should take the dictionary and a list of keys as input, and return the corresponding value. If any of the keys do not exist in the dictionary, the function should return None"
      ],
      "metadata": {
        "id": "9rnE3nWA1Wyw"
      }
    },
    {
      "cell_type": "code",
      "source": [
        "def access_nested_dict(nested_dict, keys):\n",
        "    current_level = nested_dict\n",
        "    for key in keys:\n",
        "        if key in current_level:\n",
        "            current_level = current_level[key]\n",
        "        else:\n",
        "            return None\n",
        "    return current_level\n",
        "\n",
        "# Example usage\n",
        "nested_dict = {'a': {'b': {'c': 'd'}}}\n",
        "keys = ['a', 'b', 'c']\n",
        "print(access_nested_dict(nested_dict, keys))"
      ],
      "metadata": {
        "colab": {
          "base_uri": "https://localhost:8080/"
        },
        "id": "QRVkSaEr1bWo",
        "outputId": "992ade92-23da-4190-97b1-3998454df979"
      },
      "execution_count": null,
      "outputs": [
        {
          "output_type": "stream",
          "name": "stdout",
          "text": [
            "d\n"
          ]
        }
      ]
    },
    {
      "cell_type": "markdown",
      "source": [
        "34. Write a code that takes a dictionary as input and returns a sorted version of it based on the values. You can choose whether to sort in ascending or descending order"
      ],
      "metadata": {
        "id": "u41nbvy91e5S"
      }
    },
    {
      "cell_type": "code",
      "source": [
        "def sort_dict_by_values(input_dict, ascending=True):\n",
        "    return dict(sorted(input_dict.items(), key=lambda item: item[1], reverse=not ascending))\n",
        "\n",
        "# Example usage\n",
        "input_dict = {'a': 3, 'b': 1, 'c': 2}\n",
        "print(sort_dict_by_values(input_dict, ascending=False))"
      ],
      "metadata": {
        "colab": {
          "base_uri": "https://localhost:8080/"
        },
        "id": "c2Wn_3jD1g8B",
        "outputId": "2b00b77f-e82a-4672-8f01-ac3ec655b864"
      },
      "execution_count": null,
      "outputs": [
        {
          "output_type": "stream",
          "name": "stdout",
          "text": [
            "{'a': 3, 'c': 2, 'b': 1}\n"
          ]
        }
      ]
    },
    {
      "cell_type": "markdown",
      "source": [
        "35. Write a code that inverts a dictionary, swapping keys and values. Ensure that the inverted dictionary correctly handles cases where multiple keys have the same value by storing the keys as a list in the inverted dictionary"
      ],
      "metadata": {
        "id": "XydH7wKx1kv_"
      }
    },
    {
      "cell_type": "code",
      "source": [
        "def invert_dictionary(input_dict):\n",
        "    inverted_dict = {}\n",
        "    for key, value in input_dict.items():\n",
        "        inverted_dict.setdefault(value, []).append(key)\n",
        "    return inverted_dict\n",
        "\n",
        "# Example usage\n",
        "input_dict = {'a': 1, 'b': 1, 'c': 2}\n",
        "print(invert_dictionary(input_dict))"
      ],
      "metadata": {
        "colab": {
          "base_uri": "https://localhost:8080/"
        },
        "id": "Hl3LxLJl1n03",
        "outputId": "02b6e935-5a98-4e5e-f29b-cdb247f9afaf"
      },
      "execution_count": null,
      "outputs": [
        {
          "output_type": "stream",
          "name": "stdout",
          "text": [
            "{1: ['a', 'b'], 2: ['c']}\n"
          ]
        }
      ]
    }
  ]
}